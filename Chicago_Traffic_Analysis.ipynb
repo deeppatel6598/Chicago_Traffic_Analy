{
 "cells": [
  {
   "cell_type": "code",
   "execution_count": 1,
   "id": "e3fd3869-ff47-4641-9a11-37bfc92a5829",
   "metadata": {},
   "outputs": [
    {
     "data": {
      "text/html": [
       "<div>\n",
       "<style scoped>\n",
       "    .dataframe tbody tr th:only-of-type {\n",
       "        vertical-align: middle;\n",
       "    }\n",
       "\n",
       "    .dataframe tbody tr th {\n",
       "        vertical-align: top;\n",
       "    }\n",
       "\n",
       "    .dataframe thead th {\n",
       "        text-align: right;\n",
       "    }\n",
       "</style>\n",
       "<table border=\"1\" class=\"dataframe\">\n",
       "  <thead>\n",
       "    <tr style=\"text-align: right;\">\n",
       "      <th></th>\n",
       "      <th>CRASH_RECORD_ID</th>\n",
       "      <th>CRASH_DATE_EST_I</th>\n",
       "      <th>CRASH_DATE</th>\n",
       "      <th>POSTED_SPEED_LIMIT</th>\n",
       "      <th>TRAFFIC_CONTROL_DEVICE</th>\n",
       "      <th>DEVICE_CONDITION</th>\n",
       "      <th>WEATHER_CONDITION</th>\n",
       "      <th>LIGHTING_CONDITION</th>\n",
       "      <th>FIRST_CRASH_TYPE</th>\n",
       "      <th>TRAFFICWAY_TYPE</th>\n",
       "      <th>...</th>\n",
       "      <th>INJURIES_NON_INCAPACITATING</th>\n",
       "      <th>INJURIES_REPORTED_NOT_EVIDENT</th>\n",
       "      <th>INJURIES_NO_INDICATION</th>\n",
       "      <th>INJURIES_UNKNOWN</th>\n",
       "      <th>CRASH_HOUR</th>\n",
       "      <th>CRASH_DAY_OF_WEEK</th>\n",
       "      <th>CRASH_MONTH</th>\n",
       "      <th>LATITUDE</th>\n",
       "      <th>LONGITUDE</th>\n",
       "      <th>LOCATION</th>\n",
       "    </tr>\n",
       "  </thead>\n",
       "  <tbody>\n",
       "    <tr>\n",
       "      <th>0</th>\n",
       "      <td>6c1659069e9c6285a650e70d6f9b574ed5f64c12888479...</td>\n",
       "      <td>NaN</td>\n",
       "      <td>08/18/2023 12:50:00 PM</td>\n",
       "      <td>15</td>\n",
       "      <td>OTHER</td>\n",
       "      <td>FUNCTIONING PROPERLY</td>\n",
       "      <td>CLEAR</td>\n",
       "      <td>DAYLIGHT</td>\n",
       "      <td>REAR END</td>\n",
       "      <td>OTHER</td>\n",
       "      <td>...</td>\n",
       "      <td>1.0</td>\n",
       "      <td>0.0</td>\n",
       "      <td>1.0</td>\n",
       "      <td>0.0</td>\n",
       "      <td>12</td>\n",
       "      <td>6</td>\n",
       "      <td>8</td>\n",
       "      <td>NaN</td>\n",
       "      <td>NaN</td>\n",
       "      <td>NaN</td>\n",
       "    </tr>\n",
       "    <tr>\n",
       "      <th>1</th>\n",
       "      <td>5f54a59fcb087b12ae5b1acff96a3caf4f2d37e79f8db4...</td>\n",
       "      <td>NaN</td>\n",
       "      <td>07/29/2023 02:45:00 PM</td>\n",
       "      <td>30</td>\n",
       "      <td>TRAFFIC SIGNAL</td>\n",
       "      <td>FUNCTIONING PROPERLY</td>\n",
       "      <td>CLEAR</td>\n",
       "      <td>DAYLIGHT</td>\n",
       "      <td>PARKED MOTOR VEHICLE</td>\n",
       "      <td>DIVIDED - W/MEDIAN (NOT RAISED)</td>\n",
       "      <td>...</td>\n",
       "      <td>0.0</td>\n",
       "      <td>0.0</td>\n",
       "      <td>1.0</td>\n",
       "      <td>0.0</td>\n",
       "      <td>14</td>\n",
       "      <td>7</td>\n",
       "      <td>7</td>\n",
       "      <td>41.854120</td>\n",
       "      <td>-87.665902</td>\n",
       "      <td>POINT (-87.665902342962 41.854120262952)</td>\n",
       "    </tr>\n",
       "    <tr>\n",
       "      <th>2</th>\n",
       "      <td>61fcb8c1eb522a6469b460e2134df3d15f82e81fd93e9c...</td>\n",
       "      <td>NaN</td>\n",
       "      <td>08/18/2023 05:58:00 PM</td>\n",
       "      <td>30</td>\n",
       "      <td>NO CONTROLS</td>\n",
       "      <td>NO CONTROLS</td>\n",
       "      <td>CLEAR</td>\n",
       "      <td>DAYLIGHT</td>\n",
       "      <td>PEDALCYCLIST</td>\n",
       "      <td>NOT DIVIDED</td>\n",
       "      <td>...</td>\n",
       "      <td>1.0</td>\n",
       "      <td>0.0</td>\n",
       "      <td>1.0</td>\n",
       "      <td>0.0</td>\n",
       "      <td>17</td>\n",
       "      <td>6</td>\n",
       "      <td>8</td>\n",
       "      <td>41.942976</td>\n",
       "      <td>-87.761883</td>\n",
       "      <td>POINT (-87.761883496974 41.942975745006)</td>\n",
       "    </tr>\n",
       "    <tr>\n",
       "      <th>3</th>\n",
       "      <td>004cd14d0303a9163aad69a2d7f341b7da2a8572b2ab33...</td>\n",
       "      <td>NaN</td>\n",
       "      <td>11/26/2019 08:38:00 AM</td>\n",
       "      <td>25</td>\n",
       "      <td>NO CONTROLS</td>\n",
       "      <td>NO CONTROLS</td>\n",
       "      <td>CLEAR</td>\n",
       "      <td>DAYLIGHT</td>\n",
       "      <td>PEDESTRIAN</td>\n",
       "      <td>ONE-WAY</td>\n",
       "      <td>...</td>\n",
       "      <td>0.0</td>\n",
       "      <td>0.0</td>\n",
       "      <td>1.0</td>\n",
       "      <td>0.0</td>\n",
       "      <td>8</td>\n",
       "      <td>3</td>\n",
       "      <td>11</td>\n",
       "      <td>NaN</td>\n",
       "      <td>NaN</td>\n",
       "      <td>NaN</td>\n",
       "    </tr>\n",
       "    <tr>\n",
       "      <th>4</th>\n",
       "      <td>a1d5f0ea90897745365a4cbb06cc60329a120d89753fac...</td>\n",
       "      <td>NaN</td>\n",
       "      <td>08/18/2023 10:45:00 AM</td>\n",
       "      <td>20</td>\n",
       "      <td>NO CONTROLS</td>\n",
       "      <td>NO CONTROLS</td>\n",
       "      <td>CLEAR</td>\n",
       "      <td>DAYLIGHT</td>\n",
       "      <td>FIXED OBJECT</td>\n",
       "      <td>OTHER</td>\n",
       "      <td>...</td>\n",
       "      <td>0.0</td>\n",
       "      <td>0.0</td>\n",
       "      <td>1.0</td>\n",
       "      <td>0.0</td>\n",
       "      <td>10</td>\n",
       "      <td>6</td>\n",
       "      <td>8</td>\n",
       "      <td>NaN</td>\n",
       "      <td>NaN</td>\n",
       "      <td>NaN</td>\n",
       "    </tr>\n",
       "  </tbody>\n",
       "</table>\n",
       "<p>5 rows × 48 columns</p>\n",
       "</div>"
      ],
      "text/plain": [
       "                                     CRASH_RECORD_ID CRASH_DATE_EST_I  \\\n",
       "0  6c1659069e9c6285a650e70d6f9b574ed5f64c12888479...              NaN   \n",
       "1  5f54a59fcb087b12ae5b1acff96a3caf4f2d37e79f8db4...              NaN   \n",
       "2  61fcb8c1eb522a6469b460e2134df3d15f82e81fd93e9c...              NaN   \n",
       "3  004cd14d0303a9163aad69a2d7f341b7da2a8572b2ab33...              NaN   \n",
       "4  a1d5f0ea90897745365a4cbb06cc60329a120d89753fac...              NaN   \n",
       "\n",
       "               CRASH_DATE  POSTED_SPEED_LIMIT TRAFFIC_CONTROL_DEVICE  \\\n",
       "0  08/18/2023 12:50:00 PM                  15                  OTHER   \n",
       "1  07/29/2023 02:45:00 PM                  30         TRAFFIC SIGNAL   \n",
       "2  08/18/2023 05:58:00 PM                  30            NO CONTROLS   \n",
       "3  11/26/2019 08:38:00 AM                  25            NO CONTROLS   \n",
       "4  08/18/2023 10:45:00 AM                  20            NO CONTROLS   \n",
       "\n",
       "       DEVICE_CONDITION WEATHER_CONDITION LIGHTING_CONDITION  \\\n",
       "0  FUNCTIONING PROPERLY             CLEAR           DAYLIGHT   \n",
       "1  FUNCTIONING PROPERLY             CLEAR           DAYLIGHT   \n",
       "2           NO CONTROLS             CLEAR           DAYLIGHT   \n",
       "3           NO CONTROLS             CLEAR           DAYLIGHT   \n",
       "4           NO CONTROLS             CLEAR           DAYLIGHT   \n",
       "\n",
       "       FIRST_CRASH_TYPE                  TRAFFICWAY_TYPE  ...  \\\n",
       "0              REAR END                            OTHER  ...   \n",
       "1  PARKED MOTOR VEHICLE  DIVIDED - W/MEDIAN (NOT RAISED)  ...   \n",
       "2          PEDALCYCLIST                      NOT DIVIDED  ...   \n",
       "3            PEDESTRIAN                          ONE-WAY  ...   \n",
       "4          FIXED OBJECT                            OTHER  ...   \n",
       "\n",
       "   INJURIES_NON_INCAPACITATING INJURIES_REPORTED_NOT_EVIDENT  \\\n",
       "0                          1.0                           0.0   \n",
       "1                          0.0                           0.0   \n",
       "2                          1.0                           0.0   \n",
       "3                          0.0                           0.0   \n",
       "4                          0.0                           0.0   \n",
       "\n",
       "  INJURIES_NO_INDICATION INJURIES_UNKNOWN CRASH_HOUR CRASH_DAY_OF_WEEK  \\\n",
       "0                    1.0              0.0         12                 6   \n",
       "1                    1.0              0.0         14                 7   \n",
       "2                    1.0              0.0         17                 6   \n",
       "3                    1.0              0.0          8                 3   \n",
       "4                    1.0              0.0         10                 6   \n",
       "\n",
       "  CRASH_MONTH   LATITUDE  LONGITUDE                                  LOCATION  \n",
       "0           8        NaN        NaN                                       NaN  \n",
       "1           7  41.854120 -87.665902  POINT (-87.665902342962 41.854120262952)  \n",
       "2           8  41.942976 -87.761883  POINT (-87.761883496974 41.942975745006)  \n",
       "3          11        NaN        NaN                                       NaN  \n",
       "4           8        NaN        NaN                                       NaN  \n",
       "\n",
       "[5 rows x 48 columns]"
      ]
     },
     "execution_count": 1,
     "metadata": {},
     "output_type": "execute_result"
    }
   ],
   "source": [
    "import pandas as pd\n",
    "import numpy as np\n",
    "import matplotlib.pyplot as plt\n",
    "import seaborn as sns\n",
    "\n",
    "# Load dataset\n",
    "df = pd.read_csv(\"traffic_crashes.csv\")\n",
    "\n",
    "# Display first few rows\n",
    "df.head()\n"
   ]
  },
  {
   "cell_type": "code",
   "execution_count": 2,
   "id": "d01a393b-dc51-430e-af0f-1fda3f6f5887",
   "metadata": {},
   "outputs": [
    {
     "name": "stdout",
     "output_type": "stream",
     "text": [
      "<class 'pandas.core.frame.DataFrame'>\n",
      "RangeIndex: 923743 entries, 0 to 923742\n",
      "Data columns (total 48 columns):\n",
      " #   Column                         Non-Null Count   Dtype  \n",
      "---  ------                         --------------   -----  \n",
      " 0   CRASH_RECORD_ID                923743 non-null  object \n",
      " 1   CRASH_DATE_EST_I               67949 non-null   object \n",
      " 2   CRASH_DATE                     923743 non-null  object \n",
      " 3   POSTED_SPEED_LIMIT             923743 non-null  int64  \n",
      " 4   TRAFFIC_CONTROL_DEVICE         923743 non-null  object \n",
      " 5   DEVICE_CONDITION               923743 non-null  object \n",
      " 6   WEATHER_CONDITION              923743 non-null  object \n",
      " 7   LIGHTING_CONDITION             923743 non-null  object \n",
      " 8   FIRST_CRASH_TYPE               923743 non-null  object \n",
      " 9   TRAFFICWAY_TYPE                923743 non-null  object \n",
      " 10  LANE_CNT                       199023 non-null  float64\n",
      " 11  ALIGNMENT                      923743 non-null  object \n",
      " 12  ROADWAY_SURFACE_COND           923743 non-null  object \n",
      " 13  ROAD_DEFECT                    923743 non-null  object \n",
      " 14  REPORT_TYPE                    894562 non-null  object \n",
      " 15  CRASH_TYPE                     923743 non-null  object \n",
      " 16  INTERSECTION_RELATED_I         212397 non-null  object \n",
      " 17  NOT_RIGHT_OF_WAY_I             41949 non-null   object \n",
      " 18  HIT_AND_RUN_I                  289655 non-null  object \n",
      " 19  DAMAGE                         923743 non-null  object \n",
      " 20  DATE_POLICE_NOTIFIED           923743 non-null  object \n",
      " 21  PRIM_CONTRIBUTORY_CAUSE        923743 non-null  object \n",
      " 22  SEC_CONTRIBUTORY_CAUSE         923743 non-null  object \n",
      " 23  STREET_NO                      923743 non-null  int64  \n",
      " 24  STREET_DIRECTION               923739 non-null  object \n",
      " 25  STREET_NAME                    923742 non-null  object \n",
      " 26  BEAT_OF_OCCURRENCE             923738 non-null  float64\n",
      " 27  PHOTOS_TAKEN_I                 12741 non-null   object \n",
      " 28  STATEMENTS_TAKEN_I             21443 non-null   object \n",
      " 29  DOORING_I                      2886 non-null    object \n",
      " 30  WORK_ZONE_I                    5095 non-null    object \n",
      " 31  WORK_ZONE_TYPE                 3925 non-null    object \n",
      " 32  WORKERS_PRESENT_I              1309 non-null    object \n",
      " 33  NUM_UNITS                      923743 non-null  int64  \n",
      " 34  MOST_SEVERE_INJURY             921717 non-null  object \n",
      " 35  INJURIES_TOTAL                 921731 non-null  float64\n",
      " 36  INJURIES_FATAL                 921731 non-null  float64\n",
      " 37  INJURIES_INCAPACITATING        921731 non-null  float64\n",
      " 38  INJURIES_NON_INCAPACITATING    921731 non-null  float64\n",
      " 39  INJURIES_REPORTED_NOT_EVIDENT  921731 non-null  float64\n",
      " 40  INJURIES_NO_INDICATION         921731 non-null  float64\n",
      " 41  INJURIES_UNKNOWN               921731 non-null  float64\n",
      " 42  CRASH_HOUR                     923743 non-null  int64  \n",
      " 43  CRASH_DAY_OF_WEEK              923743 non-null  int64  \n",
      " 44  CRASH_MONTH                    923743 non-null  int64  \n",
      " 45  LATITUDE                       916959 non-null  float64\n",
      " 46  LONGITUDE                      916959 non-null  float64\n",
      " 47  LOCATION                       916959 non-null  object \n",
      "dtypes: float64(11), int64(6), object(31)\n",
      "memory usage: 338.3+ MB\n"
     ]
    },
    {
     "data": {
      "text/plain": [
       "CRASH_RECORD_ID                       0\n",
       "CRASH_DATE_EST_I                 855794\n",
       "CRASH_DATE                            0\n",
       "POSTED_SPEED_LIMIT                    0\n",
       "TRAFFIC_CONTROL_DEVICE                0\n",
       "DEVICE_CONDITION                      0\n",
       "WEATHER_CONDITION                     0\n",
       "LIGHTING_CONDITION                    0\n",
       "FIRST_CRASH_TYPE                      0\n",
       "TRAFFICWAY_TYPE                       0\n",
       "LANE_CNT                         724720\n",
       "ALIGNMENT                             0\n",
       "ROADWAY_SURFACE_COND                  0\n",
       "ROAD_DEFECT                           0\n",
       "REPORT_TYPE                       29181\n",
       "CRASH_TYPE                            0\n",
       "INTERSECTION_RELATED_I           711346\n",
       "NOT_RIGHT_OF_WAY_I               881794\n",
       "HIT_AND_RUN_I                    634088\n",
       "DAMAGE                                0\n",
       "DATE_POLICE_NOTIFIED                  0\n",
       "PRIM_CONTRIBUTORY_CAUSE               0\n",
       "SEC_CONTRIBUTORY_CAUSE                0\n",
       "STREET_NO                             0\n",
       "STREET_DIRECTION                      4\n",
       "STREET_NAME                           1\n",
       "BEAT_OF_OCCURRENCE                    5\n",
       "PHOTOS_TAKEN_I                   911002\n",
       "STATEMENTS_TAKEN_I               902300\n",
       "DOORING_I                        920857\n",
       "WORK_ZONE_I                      918648\n",
       "WORK_ZONE_TYPE                   919818\n",
       "WORKERS_PRESENT_I                922434\n",
       "NUM_UNITS                             0\n",
       "MOST_SEVERE_INJURY                 2026\n",
       "INJURIES_TOTAL                     2012\n",
       "INJURIES_FATAL                     2012\n",
       "INJURIES_INCAPACITATING            2012\n",
       "INJURIES_NON_INCAPACITATING        2012\n",
       "INJURIES_REPORTED_NOT_EVIDENT      2012\n",
       "INJURIES_NO_INDICATION             2012\n",
       "INJURIES_UNKNOWN                   2012\n",
       "CRASH_HOUR                            0\n",
       "CRASH_DAY_OF_WEEK                     0\n",
       "CRASH_MONTH                           0\n",
       "LATITUDE                           6784\n",
       "LONGITUDE                          6784\n",
       "LOCATION                           6784\n",
       "dtype: int64"
      ]
     },
     "execution_count": 2,
     "metadata": {},
     "output_type": "execute_result"
    }
   ],
   "source": [
    "df.info()  # Get data types and missing values\n",
    "df.describe()  # Get summary statistics for numerical columns\n",
    "df.isnull().sum()  # Count missing values per column\n"
   ]
  },
  {
   "cell_type": "code",
   "execution_count": 3,
   "id": "9194cadd-df7b-4e6d-9bc6-da6b8b8178df",
   "metadata": {},
   "outputs": [
    {
     "data": {
      "text/plain": [
       "CRASH_DATE_EST_I          92.644166\n",
       "LANE_CNT                  78.454722\n",
       "INTERSECTION_RELATED_I    77.006916\n",
       "NOT_RIGHT_OF_WAY_I        95.458802\n",
       "HIT_AND_RUN_I             68.643335\n",
       "PHOTOS_TAKEN_I            98.620720\n",
       "STATEMENTS_TAKEN_I        97.678683\n",
       "DOORING_I                 99.687575\n",
       "WORK_ZONE_I               99.448440\n",
       "WORK_ZONE_TYPE            99.575098\n",
       "WORKERS_PRESENT_I         99.858294\n",
       "dtype: float64"
      ]
     },
     "execution_count": 3,
     "metadata": {},
     "output_type": "execute_result"
    }
   ],
   "source": [
    "missing_percentage = (df.isnull().sum() / len(df)) * 100\n",
    "missing_percentage[missing_percentage > 50]  # Show columns with more than 50% missing data\n"
   ]
  },
  {
   "cell_type": "code",
   "execution_count": 5,
   "id": "69d9efbd-a8b7-43d2-97b4-d85a742bdbd1",
   "metadata": {},
   "outputs": [],
   "source": [
    "df = df.dropna(axis=1, thresh=len(df) * 0.5)  # Remove columns with 50%+ missing data\n",
    "df = df.dropna(subset=['CRASH_DATE', 'LATITUDE', 'LONGITUDE'])  # Drop rows missing key info\n",
    " "
   ]
  },
  {
   "cell_type": "code",
   "execution_count": 6,
   "id": "49bec541-6ae2-454b-bd74-39a84f5e4fc4",
   "metadata": {},
   "outputs": [],
   "source": [
    "df.drop_duplicates(inplace=True)\n"
   ]
  },
  {
   "cell_type": "code",
   "execution_count": 7,
   "id": "0a274f39-10e0-4cc6-a1e2-0848afdd6dee",
   "metadata": {},
   "outputs": [],
   "source": [
    "df.columns = df.columns.str.lower().str.replace(' ', '_')\n"
   ]
  },
  {
   "cell_type": "code",
   "execution_count": 8,
   "id": "41311a40-e754-41f8-8a0a-4168c19b2d5d",
   "metadata": {},
   "outputs": [
    {
     "name": "stderr",
     "output_type": "stream",
     "text": [
      "C:\\Users\\Meet\\AppData\\Local\\Temp\\ipykernel_30544\\2658501877.py:1: UserWarning: Could not infer format, so each element will be parsed individually, falling back to `dateutil`. To ensure parsing is consistent and as-expected, please specify a format.\n",
      "  df['crash_date'] = pd.to_datetime(df['crash_date'])\n"
     ]
    }
   ],
   "source": [
    "df['crash_date'] = pd.to_datetime(df['crash_date'])\n",
    "df['year'] = df['crash_date'].dt.year\n",
    "df['month'] = df['crash_date'].dt.month\n",
    "df['day_of_week'] = df['crash_date'].dt.day_name()\n",
    "df['hour'] = df['crash_date'].dt.hour\n"
   ]
  },
  {
   "cell_type": "code",
   "execution_count": 9,
   "id": "9e0fe56c-48c7-40d8-bba8-030c6280bd10",
   "metadata": {},
   "outputs": [
    {
     "data": {
      "text/plain": [
       "1    2023-07-29 14:45:00\n",
       "2    2023-08-18 17:58:00\n",
       "13   2023-07-29 14:30:00\n",
       "14   2023-07-29 00:50:00\n",
       "20   2023-09-20 12:57:00\n",
       "23   2023-08-09 19:55:00\n",
       "24   2023-08-13 10:10:00\n",
       "26   2023-09-06 18:45:00\n",
       "29   2023-08-19 14:55:00\n",
       "32   2023-07-30 12:30:00\n",
       "Name: crash_date, dtype: datetime64[ns]"
      ]
     },
     "execution_count": 9,
     "metadata": {},
     "output_type": "execute_result"
    }
   ],
   "source": [
    "df['crash_date'].head(10)\n"
   ]
  },
  {
   "cell_type": "code",
   "execution_count": 10,
   "id": "06b38ec0-691b-4904-b914-96f9a91e9329",
   "metadata": {},
   "outputs": [],
   "source": [
    "df['crash_date'] = pd.to_datetime(df['crash_date'], format=\"%Y-%m-%d %H:%M:%S\", errors='coerce')\n"
   ]
  },
  {
   "cell_type": "code",
   "execution_count": 11,
   "id": "ec48626a-855e-4675-9366-c12c88be9f28",
   "metadata": {},
   "outputs": [],
   "source": [
    "df['year'] = df['crash_date'].dt.year\n",
    "df['month'] = df['crash_date'].dt.month\n",
    "df['day_of_week'] = df['crash_date'].dt.day_name()\n",
    "df['hour'] = df['crash_date'].dt.hour\n"
   ]
  },
  {
   "cell_type": "code",
   "execution_count": 12,
   "id": "248f98fe-ed64-4f99-aa89-11f5fd7f1daf",
   "metadata": {},
   "outputs": [
    {
     "data": {
      "text/html": [
       "<div>\n",
       "<style scoped>\n",
       "    .dataframe tbody tr th:only-of-type {\n",
       "        vertical-align: middle;\n",
       "    }\n",
       "\n",
       "    .dataframe tbody tr th {\n",
       "        vertical-align: top;\n",
       "    }\n",
       "\n",
       "    .dataframe thead th {\n",
       "        text-align: right;\n",
       "    }\n",
       "</style>\n",
       "<table border=\"1\" class=\"dataframe\">\n",
       "  <thead>\n",
       "    <tr style=\"text-align: right;\">\n",
       "      <th></th>\n",
       "      <th>crash_date</th>\n",
       "      <th>year</th>\n",
       "      <th>month</th>\n",
       "      <th>day_of_week</th>\n",
       "      <th>hour</th>\n",
       "    </tr>\n",
       "  </thead>\n",
       "  <tbody>\n",
       "    <tr>\n",
       "      <th>1</th>\n",
       "      <td>2023-07-29 14:45:00</td>\n",
       "      <td>2023</td>\n",
       "      <td>7</td>\n",
       "      <td>Saturday</td>\n",
       "      <td>14</td>\n",
       "    </tr>\n",
       "    <tr>\n",
       "      <th>2</th>\n",
       "      <td>2023-08-18 17:58:00</td>\n",
       "      <td>2023</td>\n",
       "      <td>8</td>\n",
       "      <td>Friday</td>\n",
       "      <td>17</td>\n",
       "    </tr>\n",
       "    <tr>\n",
       "      <th>13</th>\n",
       "      <td>2023-07-29 14:30:00</td>\n",
       "      <td>2023</td>\n",
       "      <td>7</td>\n",
       "      <td>Saturday</td>\n",
       "      <td>14</td>\n",
       "    </tr>\n",
       "    <tr>\n",
       "      <th>14</th>\n",
       "      <td>2023-07-29 00:50:00</td>\n",
       "      <td>2023</td>\n",
       "      <td>7</td>\n",
       "      <td>Saturday</td>\n",
       "      <td>0</td>\n",
       "    </tr>\n",
       "    <tr>\n",
       "      <th>20</th>\n",
       "      <td>2023-09-20 12:57:00</td>\n",
       "      <td>2023</td>\n",
       "      <td>9</td>\n",
       "      <td>Wednesday</td>\n",
       "      <td>12</td>\n",
       "    </tr>\n",
       "  </tbody>\n",
       "</table>\n",
       "</div>"
      ],
      "text/plain": [
       "            crash_date  year  month day_of_week  hour\n",
       "1  2023-07-29 14:45:00  2023      7    Saturday    14\n",
       "2  2023-08-18 17:58:00  2023      8      Friday    17\n",
       "13 2023-07-29 14:30:00  2023      7    Saturday    14\n",
       "14 2023-07-29 00:50:00  2023      7    Saturday     0\n",
       "20 2023-09-20 12:57:00  2023      9   Wednesday    12"
      ]
     },
     "execution_count": 12,
     "metadata": {},
     "output_type": "execute_result"
    }
   ],
   "source": [
    "df[['crash_date', 'year', 'month', 'day_of_week', 'hour']].head()\n"
   ]
  },
  {
   "cell_type": "code",
   "execution_count": 13,
   "id": "8858b205-75b1-4494-9d19-eaadc3c63a89",
   "metadata": {},
   "outputs": [
    {
     "data": {
      "text/html": [
       "<div>\n",
       "<style scoped>\n",
       "    .dataframe tbody tr th:only-of-type {\n",
       "        vertical-align: middle;\n",
       "    }\n",
       "\n",
       "    .dataframe tbody tr th {\n",
       "        vertical-align: top;\n",
       "    }\n",
       "\n",
       "    .dataframe thead th {\n",
       "        text-align: right;\n",
       "    }\n",
       "</style>\n",
       "<table border=\"1\" class=\"dataframe\">\n",
       "  <thead>\n",
       "    <tr style=\"text-align: right;\">\n",
       "      <th></th>\n",
       "      <th>crash_record_id</th>\n",
       "      <th>crash_date</th>\n",
       "      <th>posted_speed_limit</th>\n",
       "      <th>traffic_control_device</th>\n",
       "      <th>device_condition</th>\n",
       "      <th>weather_condition</th>\n",
       "      <th>lighting_condition</th>\n",
       "      <th>first_crash_type</th>\n",
       "      <th>trafficway_type</th>\n",
       "      <th>alignment</th>\n",
       "      <th>...</th>\n",
       "      <th>crash_hour</th>\n",
       "      <th>crash_day_of_week</th>\n",
       "      <th>crash_month</th>\n",
       "      <th>latitude</th>\n",
       "      <th>longitude</th>\n",
       "      <th>location</th>\n",
       "      <th>year</th>\n",
       "      <th>month</th>\n",
       "      <th>day_of_week</th>\n",
       "      <th>hour</th>\n",
       "    </tr>\n",
       "  </thead>\n",
       "  <tbody>\n",
       "  </tbody>\n",
       "</table>\n",
       "<p>0 rows × 41 columns</p>\n",
       "</div>"
      ],
      "text/plain": [
       "Empty DataFrame\n",
       "Columns: [crash_record_id, crash_date, posted_speed_limit, traffic_control_device, device_condition, weather_condition, lighting_condition, first_crash_type, trafficway_type, alignment, roadway_surface_cond, road_defect, report_type, crash_type, damage, date_police_notified, prim_contributory_cause, sec_contributory_cause, street_no, street_direction, street_name, beat_of_occurrence, num_units, most_severe_injury, injuries_total, injuries_fatal, injuries_incapacitating, injuries_non_incapacitating, injuries_reported_not_evident, injuries_no_indication, injuries_unknown, crash_hour, crash_day_of_week, crash_month, latitude, longitude, location, year, month, day_of_week, hour]\n",
       "Index: []\n",
       "\n",
       "[0 rows x 41 columns]"
      ]
     },
     "execution_count": 13,
     "metadata": {},
     "output_type": "execute_result"
    }
   ],
   "source": [
    "df[df['crash_date'].isna()]\n"
   ]
  },
  {
   "cell_type": "code",
   "execution_count": 14,
   "id": "791906fd-4bd9-46ab-8d26-4bf917f2111a",
   "metadata": {},
   "outputs": [
    {
     "name": "stderr",
     "output_type": "stream",
     "text": [
      "C:\\Users\\Meet\\AppData\\Local\\Temp\\ipykernel_30544\\4177787046.py:1: UserWarning: The argument 'infer_datetime_format' is deprecated and will be removed in a future version. A strict version of it is now the default, see https://pandas.pydata.org/pdeps/0004-consistent-to-datetime-parsing.html. You can safely remove this argument.\n",
      "  df['crash_date'] = pd.to_datetime(df['crash_date'], errors='coerce', infer_datetime_format=True)\n"
     ]
    }
   ],
   "source": [
    "df['crash_date'] = pd.to_datetime(df['crash_date'], errors='coerce', infer_datetime_format=True)\n"
   ]
  },
  {
   "cell_type": "code",
   "execution_count": 15,
   "id": "318403ec-7a21-4b10-986f-7792c5714005",
   "metadata": {},
   "outputs": [],
   "source": [
    "df['weather_condition'] = df['weather_condition'].str.lower().str.strip(\n"
   ]
  },
  {
   "cell_type": "code",
   "execution_count": 17,
   "id": "79588b92-ccbd-4bf3-8482-941afdcf266d",
   "metadata": {},
   "outputs": [
    {
     "data": {
      "text/plain": [
       "Index(['posted_speed_limit', 'street_no', 'beat_of_occurrence', 'num_units',\n",
       "       'injuries_total', 'injuries_fatal', 'injuries_incapacitating',\n",
       "       'injuries_non_incapacitating', 'injuries_reported_not_evident',\n",
       "       'injuries_no_indication', 'injuries_unknown', 'crash_hour',\n",
       "       'crash_day_of_week', 'crash_month', 'latitude', 'longitude', 'year',\n",
       "       'month', 'hour'],\n",
       "      dtype='object')"
      ]
     },
     "execution_count": 17,
     "metadata": {},
     "output_type": "execute_result"
    }
   ],
   "source": [
    "df.select_dtypes(include=['number']).columns\n"
   ]
  },
  {
   "cell_type": "code",
   "execution_count": 19,
   "id": "fea6235e-55b8-40a0-a4bf-8d16a87e552c",
   "metadata": {},
   "outputs": [],
   "source": [
    "Q1 = df['posted_speed_limit'].quantile(0.25)\n",
    "Q3 = df['posted_speed_limit'].quantile(0.75)\n",
    "IQR = Q3 - Q1\n",
    "df = df[~((df['posted_speed_limit'] < (Q1 - 1.5 * IQR)) | (df['posted_speed_limit'] > (Q3 + 1.5 * IQR)))]\n"
   ]
  },
  {
   "cell_type": "code",
   "execution_count": 20,
   "id": "04734ecd-c249-4034-ad43-0e684e5c2769",
   "metadata": {},
   "outputs": [],
   "source": [
    "Q1 = df['injuries_unknown'].quantile(0.25)\n",
    "Q3 = df['injuries_unknown'].quantile(0.75)\n",
    "IQR = Q3 - Q1\n",
    "df = df[~((df['injuries_unknown'] < (Q1 - 1.5 * IQR)) | (df['injuries_unknown'] > (Q3 + 1.5 * IQR)))]\n"
   ]
  },
  {
   "cell_type": "code",
   "execution_count": 21,
   "id": "df6d3d3e-ade7-467f-9eef-437e18977956",
   "metadata": {},
   "outputs": [],
   "source": [
    "df.to_csv(\"clean_chicago_traffic.csv\", index=False)\n"
   ]
  },
  {
   "cell_type": "code",
   "execution_count": 23,
   "id": "116a69e3-04a9-4318-b095-5681d0204868",
   "metadata": {},
   "outputs": [],
   "source": [
    "#Visualization"
   ]
  },
  {
   "cell_type": "code",
   "execution_count": 22,
   "id": "6e71ee69-99a4-4e0c-9c40-e2af3bfc80f6",
   "metadata": {},
   "outputs": [
    {
     "data": {
      "text/html": [
       "<div>\n",
       "<style scoped>\n",
       "    .dataframe tbody tr th:only-of-type {\n",
       "        vertical-align: middle;\n",
       "    }\n",
       "\n",
       "    .dataframe tbody tr th {\n",
       "        vertical-align: top;\n",
       "    }\n",
       "\n",
       "    .dataframe thead th {\n",
       "        text-align: right;\n",
       "    }\n",
       "</style>\n",
       "<table border=\"1\" class=\"dataframe\">\n",
       "  <thead>\n",
       "    <tr style=\"text-align: right;\">\n",
       "      <th></th>\n",
       "      <th>crash_record_id</th>\n",
       "      <th>crash_date</th>\n",
       "      <th>posted_speed_limit</th>\n",
       "      <th>traffic_control_device</th>\n",
       "      <th>device_condition</th>\n",
       "      <th>weather_condition</th>\n",
       "      <th>lighting_condition</th>\n",
       "      <th>first_crash_type</th>\n",
       "      <th>trafficway_type</th>\n",
       "      <th>alignment</th>\n",
       "      <th>...</th>\n",
       "      <th>crash_hour</th>\n",
       "      <th>crash_day_of_week</th>\n",
       "      <th>crash_month</th>\n",
       "      <th>latitude</th>\n",
       "      <th>longitude</th>\n",
       "      <th>location</th>\n",
       "      <th>year</th>\n",
       "      <th>month</th>\n",
       "      <th>day_of_week</th>\n",
       "      <th>hour</th>\n",
       "    </tr>\n",
       "  </thead>\n",
       "  <tbody>\n",
       "    <tr>\n",
       "      <th>0</th>\n",
       "      <td>5f54a59fcb087b12ae5b1acff96a3caf4f2d37e79f8db4...</td>\n",
       "      <td>2023-07-29 14:45:00</td>\n",
       "      <td>30</td>\n",
       "      <td>TRAFFIC SIGNAL</td>\n",
       "      <td>FUNCTIONING PROPERLY</td>\n",
       "      <td>clear</td>\n",
       "      <td>DAYLIGHT</td>\n",
       "      <td>PARKED MOTOR VEHICLE</td>\n",
       "      <td>DIVIDED - W/MEDIAN (NOT RAISED)</td>\n",
       "      <td>STRAIGHT AND LEVEL</td>\n",
       "      <td>...</td>\n",
       "      <td>14</td>\n",
       "      <td>7</td>\n",
       "      <td>7</td>\n",
       "      <td>41.854120</td>\n",
       "      <td>-87.665902</td>\n",
       "      <td>POINT (-87.665902342962 41.854120262952)</td>\n",
       "      <td>2023</td>\n",
       "      <td>7</td>\n",
       "      <td>Saturday</td>\n",
       "      <td>14</td>\n",
       "    </tr>\n",
       "    <tr>\n",
       "      <th>1</th>\n",
       "      <td>61fcb8c1eb522a6469b460e2134df3d15f82e81fd93e9c...</td>\n",
       "      <td>2023-08-18 17:58:00</td>\n",
       "      <td>30</td>\n",
       "      <td>NO CONTROLS</td>\n",
       "      <td>NO CONTROLS</td>\n",
       "      <td>clear</td>\n",
       "      <td>DAYLIGHT</td>\n",
       "      <td>PEDALCYCLIST</td>\n",
       "      <td>NOT DIVIDED</td>\n",
       "      <td>STRAIGHT AND LEVEL</td>\n",
       "      <td>...</td>\n",
       "      <td>17</td>\n",
       "      <td>6</td>\n",
       "      <td>8</td>\n",
       "      <td>41.942976</td>\n",
       "      <td>-87.761883</td>\n",
       "      <td>POINT (-87.761883496974 41.942975745006)</td>\n",
       "      <td>2023</td>\n",
       "      <td>8</td>\n",
       "      <td>Friday</td>\n",
       "      <td>17</td>\n",
       "    </tr>\n",
       "    <tr>\n",
       "      <th>2</th>\n",
       "      <td>fda2491d33ac819033f4aaa7ed901120f2f6785b7e5bbb...</td>\n",
       "      <td>2023-07-29 00:50:00</td>\n",
       "      <td>30</td>\n",
       "      <td>TRAFFIC SIGNAL</td>\n",
       "      <td>FUNCTIONING PROPERLY</td>\n",
       "      <td>clear</td>\n",
       "      <td>DARKNESS</td>\n",
       "      <td>SIDESWIPE OPPOSITE DIRECTION</td>\n",
       "      <td>NOT DIVIDED</td>\n",
       "      <td>STRAIGHT AND LEVEL</td>\n",
       "      <td>...</td>\n",
       "      <td>0</td>\n",
       "      <td>7</td>\n",
       "      <td>7</td>\n",
       "      <td>41.899225</td>\n",
       "      <td>-87.696642</td>\n",
       "      <td>POINT (-87.696642374961 41.899224596015)</td>\n",
       "      <td>2023</td>\n",
       "      <td>7</td>\n",
       "      <td>Saturday</td>\n",
       "      <td>0</td>\n",
       "    </tr>\n",
       "    <tr>\n",
       "      <th>3</th>\n",
       "      <td>1ee2180a89cc02c0b756f95b5b2755bb5cc9d93450f5ca...</td>\n",
       "      <td>2023-08-09 19:55:00</td>\n",
       "      <td>30</td>\n",
       "      <td>TRAFFIC SIGNAL</td>\n",
       "      <td>FUNCTIONING IMPROPERLY</td>\n",
       "      <td>clear</td>\n",
       "      <td>DAYLIGHT</td>\n",
       "      <td>ANGLE</td>\n",
       "      <td>FOUR WAY</td>\n",
       "      <td>STRAIGHT AND LEVEL</td>\n",
       "      <td>...</td>\n",
       "      <td>19</td>\n",
       "      <td>4</td>\n",
       "      <td>8</td>\n",
       "      <td>41.758246</td>\n",
       "      <td>-87.626522</td>\n",
       "      <td>POINT (-87.626521907009 41.758245504966)</td>\n",
       "      <td>2023</td>\n",
       "      <td>8</td>\n",
       "      <td>Wednesday</td>\n",
       "      <td>19</td>\n",
       "    </tr>\n",
       "    <tr>\n",
       "      <th>4</th>\n",
       "      <td>4a1f7a24129e5e1d4a7a2fd44ab6f8822a20bcdb2f627f...</td>\n",
       "      <td>2023-08-13 10:10:00</td>\n",
       "      <td>30</td>\n",
       "      <td>TRAFFIC SIGNAL</td>\n",
       "      <td>FUNCTIONING PROPERLY</td>\n",
       "      <td>clear</td>\n",
       "      <td>DAYLIGHT</td>\n",
       "      <td>REAR END</td>\n",
       "      <td>NOT DIVIDED</td>\n",
       "      <td>STRAIGHT AND LEVEL</td>\n",
       "      <td>...</td>\n",
       "      <td>10</td>\n",
       "      <td>1</td>\n",
       "      <td>8</td>\n",
       "      <td>41.975853</td>\n",
       "      <td>-87.709134</td>\n",
       "      <td>POINT (-87.709134319958 41.975852858025)</td>\n",
       "      <td>2023</td>\n",
       "      <td>8</td>\n",
       "      <td>Sunday</td>\n",
       "      <td>10</td>\n",
       "    </tr>\n",
       "  </tbody>\n",
       "</table>\n",
       "<p>5 rows × 41 columns</p>\n",
       "</div>"
      ],
      "text/plain": [
       "                                     crash_record_id           crash_date  \\\n",
       "0  5f54a59fcb087b12ae5b1acff96a3caf4f2d37e79f8db4...  2023-07-29 14:45:00   \n",
       "1  61fcb8c1eb522a6469b460e2134df3d15f82e81fd93e9c...  2023-08-18 17:58:00   \n",
       "2  fda2491d33ac819033f4aaa7ed901120f2f6785b7e5bbb...  2023-07-29 00:50:00   \n",
       "3  1ee2180a89cc02c0b756f95b5b2755bb5cc9d93450f5ca...  2023-08-09 19:55:00   \n",
       "4  4a1f7a24129e5e1d4a7a2fd44ab6f8822a20bcdb2f627f...  2023-08-13 10:10:00   \n",
       "\n",
       "   posted_speed_limit traffic_control_device        device_condition  \\\n",
       "0                  30         TRAFFIC SIGNAL    FUNCTIONING PROPERLY   \n",
       "1                  30            NO CONTROLS             NO CONTROLS   \n",
       "2                  30         TRAFFIC SIGNAL    FUNCTIONING PROPERLY   \n",
       "3                  30         TRAFFIC SIGNAL  FUNCTIONING IMPROPERLY   \n",
       "4                  30         TRAFFIC SIGNAL    FUNCTIONING PROPERLY   \n",
       "\n",
       "  weather_condition lighting_condition              first_crash_type  \\\n",
       "0             clear           DAYLIGHT          PARKED MOTOR VEHICLE   \n",
       "1             clear           DAYLIGHT                  PEDALCYCLIST   \n",
       "2             clear           DARKNESS  SIDESWIPE OPPOSITE DIRECTION   \n",
       "3             clear           DAYLIGHT                         ANGLE   \n",
       "4             clear           DAYLIGHT                      REAR END   \n",
       "\n",
       "                   trafficway_type           alignment  ... crash_hour  \\\n",
       "0  DIVIDED - W/MEDIAN (NOT RAISED)  STRAIGHT AND LEVEL  ...         14   \n",
       "1                      NOT DIVIDED  STRAIGHT AND LEVEL  ...         17   \n",
       "2                      NOT DIVIDED  STRAIGHT AND LEVEL  ...          0   \n",
       "3                         FOUR WAY  STRAIGHT AND LEVEL  ...         19   \n",
       "4                      NOT DIVIDED  STRAIGHT AND LEVEL  ...         10   \n",
       "\n",
       "  crash_day_of_week crash_month   latitude  longitude  \\\n",
       "0                 7           7  41.854120 -87.665902   \n",
       "1                 6           8  41.942976 -87.761883   \n",
       "2                 7           7  41.899225 -87.696642   \n",
       "3                 4           8  41.758246 -87.626522   \n",
       "4                 1           8  41.975853 -87.709134   \n",
       "\n",
       "                                   location  year month  day_of_week hour  \n",
       "0  POINT (-87.665902342962 41.854120262952)  2023     7     Saturday   14  \n",
       "1  POINT (-87.761883496974 41.942975745006)  2023     8       Friday   17  \n",
       "2  POINT (-87.696642374961 41.899224596015)  2023     7     Saturday    0  \n",
       "3  POINT (-87.626521907009 41.758245504966)  2023     8    Wednesday   19  \n",
       "4  POINT (-87.709134319958 41.975852858025)  2023     8       Sunday   10  \n",
       "\n",
       "[5 rows x 41 columns]"
      ]
     },
     "execution_count": 22,
     "metadata": {},
     "output_type": "execute_result"
    }
   ],
   "source": [
    "df = pd.read_csv(\"clean_chicago_traffic.csv\")\n",
    "df.head()\n"
   ]
  },
  {
   "cell_type": "code",
   "execution_count": 24,
   "id": "2d93bd6a-7e5a-4c31-8677-cfa397bca07b",
   "metadata": {},
   "outputs": [
    {
     "data": {
      "image/png": "[encoded data removed]",
      "text/plain": [
       "<Figure size 1000x500 with 1 Axes>"
      ]
     },
     "metadata": {},
     "output_type": "display_data"
    }
   ],
   "source": [
    "df['year'].value_counts().sort_index().plot(kind='bar', figsize=(10,5))\n",
    "plt.title('Number of Accidents Per Year')\n",
    "plt.xlabel('Year')\n",
    "plt.ylabel('Count')\n",
    "plt.show()\n"
   ]
  },
  {
   "cell_type": "code",
   "execution_count": 25,
   "id": "954cb294-c9bf-481b-8913-7f3ecddf1e1d",
   "metadata": {},
   "outputs": [
    {
     "data": {
      "image/png": "[encoded data removed]",
      "text/plain": [
       "<Figure size 640x480 with 1 Axes>"
      ]
     },
     "metadata": {},
     "output_type": "display_data"
    }
   ],
   "source": [
    "sns.countplot(y=df['weather_condition'], order=df['weather_condition'].value_counts().index)\n",
    "plt.title('Collision Count by Weather Condition')\n",
    "plt.show()\n"
   ]
  },
  {
   "cell_type": "code",
   "execution_count": 26,
   "id": "96829f8c-02d1-4162-9f2d-9d82d593d911",
   "metadata": {},
   "outputs": [
    {
     "data": {
      "image/png": "[encoded data removed]",
      "text/plain": [
       "<Figure size 640x480 with 1 Axes>"
      ]
     },
     "metadata": {},
     "output_type": "display_data"
    }
   ],
   "source": [
    "sns.histplot(df['hour'], bins=24, kde=True)\n",
    "plt.title('Accidents Distribution by Hour')\n",
    "plt.xlabel('Hour')\n",
    "plt.ylabel('Number of Accidents')\n",
    "plt.show()\n"
   ]
  },
  {
   "cell_type": "code",
   "execution_count": 29,
   "id": "318f95f2-0c8e-4197-bcea-cf46b9317e18",
   "metadata": {},
   "outputs": [],
   "source": [
    "#Here i don't have road conditions so choose trafficway"
   ]
  },
  {
   "cell_type": "code",
   "execution_count": 28,
   "id": "17d95a7d-6471-47d4-a6af-82033613ce76",
   "metadata": {},
   "outputs": [
    {
     "data": {
      "image/png": "[encoded data removed]",
      "text/plain": [
       "<Figure size 640x480 with 1 Axes>"
      ]
     },
     "metadata": {},
     "output_type": "display_data"
    }
   ],
   "source": [
    "sns.countplot(y=df['trafficway_type'], order=df['trafficway_type'].value_counts().index)\n",
    "plt.title('Impact of trafficway_type on Traffic Collisions')\n",
    "plt.show()\n"
   ]
  },
  {
   "cell_type": "code",
   "execution_count": 30,
   "id": "042e778f-3d01-4c2c-b6c4-17d809d48446",
   "metadata": {},
   "outputs": [],
   "source": [
    "df.to_csv(\"clean_chicago_traffic.csv\", index=False)\n"
   ]
  },
  {
   "cell_type": "code",
   "execution_count": null,
   "id": "307e6642-6688-443a-8307-9a9ad7c10409",
   "metadata": {},
   "outputs": [],
   "source": []
  }
 ],
 "metadata": {
  "kernelspec": {
   "display_name": "Python 3 (ipykernel)",
   "language": "python",
   "name": "python3"
  },
  "language_info": {
   "codemirror_mode": {
    "name": "ipython",
    "version": 3
   },
   "file_extension": ".py",
   "mimetype": "text/x-python",
   "name": "python",
   "nbconvert_exporter": "python",
   "pygments_lexer": "ipython3",
   "version": "3.12.3"
  }
 },
 "nbformat": 4,
 "nbformat_minor": 5
}
